{
  "nbformat": 4,
  "nbformat_minor": 0,
  "metadata": {
    "colab": {
      "private_outputs": true,
      "provenance": [],
      "authorship_tag": "ABX9TyN+rWub2HDGqjaLYQ/ZKmMm",
      "include_colab_link": true
    },
    "kernelspec": {
      "name": "python3",
      "display_name": "Python 3"
    },
    "language_info": {
      "name": "python"
    }
  },
  "cells": [
    {
      "cell_type": "markdown",
      "metadata": {
        "id": "view-in-github",
        "colab_type": "text"
      },
      "source": [
        "<a href=\"https://colab.research.google.com/github/miguellucero123/Analisis_est/blob/main/Trabajo_S2_TAC_ML_Beta.ipynb\" target=\"_parent\"><img src=\"https://colab.research.google.com/assets/colab-badge.svg\" alt=\"Open In Colab\"/></a>"
      ]
    },
    {
      "cell_type": "code",
      "execution_count": null,
      "metadata": {
        "id": "tuOJMA4gZhn-"
      },
      "outputs": [],
      "source": [
        "# ====== 1. LIBRERÍAS Y CONEXIÓN A DRIVE ======\n",
        "from google.colab import drive\n",
        "drive.mount('/content/drive')\n",
        "\n",
        "import pandas as pd\n",
        "import numpy as np\n",
        "import matplotlib.pyplot as plt\n",
        "import seaborn as sns\n",
        "\n",
        "# Configuración visual global\n",
        "plt.style.use('seaborn-v0_8-whitegrid')\n",
        "sns.set(style=\"whitegrid\")\n",
        "plt.rcParams['figure.figsize'] = (12, 8)\n",
        "plt.rcParams['font.size'] = 12"
      ]
    },
    {
      "cell_type": "code",
      "source": [
        "# ====== 2. CARGA DEL DATASET ======\n",
        "ruta = '/content/drive/MyDrive/bank-additional-full.csv'  # Cambia la ruta si es necesario\n",
        "\n",
        "try:\n",
        "    df = pd.read_csv(ruta, sep=';')\n",
        "    print(\"Datos cargados correctamente.\")\n",
        "except FileNotFoundError:\n",
        "    print(f\"Error: archivo no encontrado en {ruta}\")\n",
        "    df = pd.DataFrame()\n",
        "except Exception as e:\n",
        "    print(f\"Ocurrió un error: {e}\")\n",
        "    df = pd.DataFrame()\n",
        "\n",
        "# Vista preliminar\n",
        "display(df.head())\n",
        "print(f\"Dimensión del DataFrame: {df.shape}\")"
      ],
      "metadata": {
        "id": "bj0LSddFZ0wS"
      },
      "execution_count": null,
      "outputs": []
    },
    {
      "cell_type": "code",
      "source": [
        "# ====== 3. REVISIÓN DE CALIDAD DE DATOS ======\n",
        "print(\"====== REVISIÓN DE CONSISTENCIA DE DATOS ======\\n\")\n",
        "\n",
        "# 1. Valores nulos (NaN)\n",
        "print(\"1. Valores nulos por columna:\")\n",
        "print(df.isnull().sum())\n",
        "print(\"-\" * 40)\n",
        "\n",
        "# 2. Celdas en blanco ('' o sólo espacios)\n",
        "print(\"2. Celdas en blanco por columna:\")\n",
        "for col in df.columns:\n",
        "    blancos = df[col].apply(lambda x: isinstance(x, str) and x.strip() == '').sum()\n",
        "    if blancos > 0:\n",
        "        print(f\"{col}: {blancos}\")\n",
        "print(\"-\" * 40)\n",
        "\n",
        "# 3. Valores negativos en columnas numéricas\n",
        "print(\"3. Valores negativos detectados:\")\n",
        "numericas = df.select_dtypes(include=np.number).columns\n",
        "for col in numericas:\n",
        "    negativos = (df[col] < 0).sum()\n",
        "    if negativos > 0:\n",
        "        print(f\"{col}: {negativos}\")\n",
        "print(\"-\" * 40)\n",
        "\n",
        "# 4. Problemas con fechas (si existen columnas tipo fecha)\n",
        "if 'month' in df.columns:\n",
        "    print(\"4. Valores únicos en 'month':\", df['month'].unique())\n",
        "if 'day' in df.columns:\n",
        "    print(\"Valores únicos en 'day':\", df['day'].unique())\n",
        "print(\"-\" * 40)\n",
        "\n",
        "# 5. Valores inconsistentes en categóricas\n",
        "cat_cols = ['marital', 'education', 'job', 'housing', 'loan', 'month', 'contact', 'y']\n",
        "for col in cat_cols:\n",
        "    if col in df.columns:\n",
        "        print(f\"5. Valores únicos en '{col}': {df[col].unique()}\")\n",
        "print(\"-\" * 40)\n",
        "\n",
        "# 6. Edades fuera de rango lógico\n",
        "if 'age' in df.columns:\n",
        "    fuera_rango_menor = df[df['age'] < 18]\n",
        "    fuera_rango_mayor = df[df['age'] > 100]\n",
        "    print(f\"6. Registros con edad < 18: {len(fuera_rango_menor)}\")\n",
        "    if len(fuera_rango_menor) > 0:\n",
        "        display(fuera_rango_menor[['age']])\n",
        "    print(f\"Registros con edad > 100: {len(fuera_rango_mayor)}\")\n",
        "    if len(fuera_rango_mayor) > 0:\n",
        "        display(fuera_rango_mayor[['age']])\n",
        "print(\"-\" * 40)\n",
        "\n",
        "# 7. Resumen rápido\n",
        "print(\"====== RESUMEN DE INCONSISTENCIAS ======\")\n",
        "total_nan = df.isnull().sum().sum()\n",
        "print(f\"Total de valores NaN: {total_nan}\")\n",
        "\n",
        "total_blancos = sum(df[col].apply(lambda x: isinstance(x, str) and x.strip() == '').sum() for col in df.columns)\n",
        "print(f\"Total de celdas en blanco: {total_blancos}\")\n",
        "\n",
        "total_negativos = sum((df[col] < 0).sum() for col in numericas)\n",
        "print(f\"Total de valores negativos en columnas numéricas: {total_negativos}\")\n",
        "\n",
        "if 'age' in df.columns:\n",
        "    print(f\"Total de edades fuera de rango (<18): {len(fuera_rango_menor)}\")\n",
        "    print(f\"Total de edades fuera de rango (>100): {len(fuera_rango_mayor)}\")\n",
        "\n",
        "print(\"\\nSi encuentras inconsistencias, considera limpiar o corregir antes del análisis.\")\n",
        "print(\"=\" * 50)"
      ],
      "metadata": {
        "id": "HpbYo2HHZ2lr"
      },
      "execution_count": null,
      "outputs": []
    },
    {
      "cell_type": "code",
      "source": [
        "# ====== 4. PREPROCESAMIENTO ======\n",
        "if not df.empty:\n",
        "    # a) Variable objetivo binaria\n",
        "    if 'y' in df.columns:\n",
        "        df['conversion'] = df['y'].map({'yes': 1, 'no': 0})\n",
        "    else:\n",
        "        print(\"No se encontró la columna 'y'.\")\n",
        "\n",
        "    # b) Grupos de edad\n",
        "    bins = [18, 20, 30, 40, 50, 60, 70, np.inf]\n",
        "    labels = ['<20','[20,30)','[30,40)','[40,50)','[50,60)','[60,70)','70+']\n",
        "    df['grupo_edad'] = pd.cut(df['age'], bins=bins, labels=labels, right=False, include_lowest=True)\n",
        "\n",
        "    # c) Imputar 'unknown' con moda en marital y education\n",
        "    for col in ['marital', 'education']:\n",
        "        if col in df.columns and 'unknown' in df[col].unique():\n",
        "            moda = df[col].mode()[0]\n",
        "            df[col] = df[col].replace('unknown', moda)\n",
        "\n",
        "    # d) Tipos de datos correctos\n",
        "    if 'age' in df.columns:\n",
        "        df['age'] = df['age'].astype(int)\n",
        "    if 'conversion' in df.columns:\n",
        "        df['conversion'] = df['conversion'].astype(int)\n",
        "    if 'grupo_edad' in df.columns:\n",
        "        df['grupo_edad'] = df['grupo_edad'].astype('category')\n",
        "    if 'marital' in df.columns:\n",
        "        df['marital'] = df['marital'].astype('category')\n",
        "    if 'education' in df.columns:\n",
        "        df['education'] = df['education'].astype('category')\n",
        "\n",
        "    print(\"Preprocesamiento completado.\")\n",
        "    display(df.head())\n",
        "else:\n",
        "    print(\"El DataFrame está vacío, no se puede preprocesar.\")"
      ],
      "metadata": {
        "id": "mUX695hlZ4ZK"
      },
      "execution_count": null,
      "outputs": []
    },
    {
      "cell_type": "code",
      "source": [
        "# ====== 5.1 CONVERSIÓN ABSOLUTA Y TASA DE CONVERSIÓN ======\n",
        "if not df.empty and 'conversion' in df.columns:\n",
        "    conversion_absoluta = df['conversion'].sum()\n",
        "    tasa_conversion = df['conversion'].mean() * 100\n",
        "    print(f\"Conversión absoluta: {conversion_absoluta}\")\n",
        "    print(f\"Tasa de conversión: {tasa_conversion:.2f}%\")\n",
        "else:\n",
        "    print(\"No se puede calcular la conversión.\")"
      ],
      "metadata": {
        "id": "rjqCRvJQZ8Fj"
      },
      "execution_count": null,
      "outputs": []
    },
    {
      "cell_type": "code",
      "source": [
        "# ====== 5.2 TASA DE CONVERSIÓN POR EDAD Y GRUPO ETARIO ======\n",
        "if not df.empty and 'conversion' in df.columns:\n",
        "    print(\"\\nTasa de conversión por edad específica:\")\n",
        "    print(df.groupby('age')['conversion'].mean() * 100)\n",
        "\n",
        "    print(\"\\nTasa de conversión por grupo etario:\")\n",
        "    print(df.groupby('grupo_edad', observed=False)['conversion'].mean() * 100)"
      ],
      "metadata": {
        "id": "Em-dvRDRaAEa"
      },
      "execution_count": null,
      "outputs": []
    },
    {
      "cell_type": "code",
      "source": [
        "# ====== 5.3 TASA DE CONVERSIÓN POR ESTADO CIVIL ======\n",
        "if not df.empty and 'conversion' in df.columns:\n",
        "    print(\"\\nTasa de conversión por estado marital:\")\n",
        "    print(df.groupby('marital', observed=False)['conversion'].mean() * 100)"
      ],
      "metadata": {
        "id": "t7noV8ttaCyi"
      },
      "execution_count": null,
      "outputs": []
    },
    {
      "cell_type": "code",
      "source": [
        "# ====== 5.4 TASA DE CONVERSIÓN POR ESTADO CIVIL Y GRUPO ETARIO ======\n",
        "if not df.empty and 'conversion' in df.columns:\n",
        "    print(\"\\nTasa de conversión por estado marital y grupo etario:\")\n",
        "    tabla1 = df.groupby(['marital', 'grupo_edad'], observed=False)['conversion'].mean().unstack() * 100\n",
        "    display(tabla1)"
      ],
      "metadata": {
        "id": "_DhaO0xhaFOa"
      },
      "execution_count": null,
      "outputs": []
    },
    {
      "cell_type": "code",
      "source": [
        "# ====== 5.5 TASA DE CONVERSIÓN POR NIVEL EDUCATIVO ======\n",
        "if not df.empty and 'conversion' in df.columns:\n",
        "    print(\"\\nTasa de conversión por nivel educativo:\")\n",
        "    print(df.groupby('education', observed=False)['conversion'].mean() * 100)"
      ],
      "metadata": {
        "id": "RI_Fa9TRaHi6"
      },
      "execution_count": null,
      "outputs": []
    },
    {
      "cell_type": "code",
      "source": [
        "# ====== 5.6 GRÁFICO TASA DE CONVERSIÓN POR NIVEL EDUCATIVO ======\n",
        "if not df.empty and 'conversion' in df.columns:\n",
        "    tasa_edu = df.groupby('education', observed=False)['conversion'].mean().sort_values() * 100\n",
        "    tasa_edu.plot(kind='bar', color='steelblue')\n",
        "    plt.title('Tasa de conversión por nivel educativo')\n",
        "    plt.ylabel('Tasa de conversión (%)')\n",
        "    plt.xlabel('Nivel educativo')\n",
        "    plt.show()"
      ],
      "metadata": {
        "id": "Tbe7Y96UaI77"
      },
      "execution_count": null,
      "outputs": []
    },
    {
      "cell_type": "code",
      "source": [
        "# ====== 5.7 TASA DE CONVERSIÓN POR NIVEL EDUCATIVO Y GRUPO ETARIO ======\n",
        "if not df.empty and 'conversion' in df.columns:\n",
        "    tabla2 = df.groupby(['education', 'grupo_edad'], observed=False)['conversion'].mean().unstack() * 100\n",
        "    print(\"\\nTasa de conversión por nivel educativo y grupo etario:\")\n",
        "    display(tabla2)"
      ],
      "metadata": {
        "id": "9_AYOi10aKXD"
      },
      "execution_count": null,
      "outputs": []
    },
    {
      "cell_type": "code",
      "source": [
        "# ====== 5.8 GRÁFICO CRUCE NIVEL EDUCATIVO Y GRUPO ETARIO ======\n",
        "if not df.empty and 'conversion' in df.columns:\n",
        "    plt.figure(figsize=(14,7))\n",
        "    tabla2.T.plot(kind='bar')\n",
        "    plt.title('Tasa de conversión por grupo etario y nivel educativo')\n",
        "    plt.ylabel('Tasa de conversión (%)')\n",
        "    plt.xlabel('Grupo etario')\n",
        "    plt.legend(title='Nivel educativo', bbox_to_anchor=(1.05, 1), loc='upper left')\n",
        "    plt.tight_layout()\n",
        "    plt.show()"
      ],
      "metadata": {
        "id": "8wU8CbYSaLk8"
      },
      "execution_count": null,
      "outputs": []
    },
    {
      "cell_type": "code",
      "source": [
        "# Parte 6: Tasa conversión por nivel educativo\n",
        "tasa_conversion_por_educacion = df.groupby('education')['conversion'].mean() * 100\n",
        "print(\"\\nTasa de conversión por educación:\")\n",
        "display(tasa_conversion_por_educacion)"
      ],
      "metadata": {
        "id": "2zlUryuYdhaa"
      },
      "execution_count": null,
      "outputs": []
    },
    {
      "cell_type": "code",
      "source": [
        "# Parte 7: Gráfico de barras para educación\n",
        "import matplotlib.pyplot as plt\n",
        "\n",
        "# Ordenar la tasa de conversión para visualización\n",
        "tasa_conversion_por_educacion_ordenado = tasa_conversion_por_educacion.sort_values()\n",
        "\n",
        "# Crear el gráfico de barras\n",
        "plt.figure(figsize=(12, 6))  # Ajustar tamaño de figura para legibilidad\n",
        "tasa_conversion_por_educacion_ordenado.plot(kind='bar', color='skyblue')\n",
        "plt.title('Tasa de conversión por nivel educativo', fontsize=16)\n",
        "plt.xlabel('Nivel educativo', fontsize=12)\n",
        "plt.ylabel('Tasa de conversión (%)', fontsize=12)\n",
        "plt.xticks(rotation=45, ha='right')  # Girar etiquetas para mayor legibilidad\n",
        "plt.tight_layout()  # Ajustar layout\n",
        "plt.show()"
      ],
      "metadata": {
        "id": "kRTxasqadxTy"
      },
      "execution_count": null,
      "outputs": []
    },
    {
      "cell_type": "code",
      "source": [
        "# Parte 8: Tasa de conversión por educación y grupo de edad\n",
        "tasa_conversion_educacion_grupo_edad = df.groupby(['education', 'grupo_edad'])['conversion'].mean().unstack() * 100\n",
        "display(tasa_conversion_educacion_grupo_edad)\n",
        "\n",
        "# Parte 9: Mapa de calor\n",
        "import matplotlib.pyplot as plt\n",
        "plt.figure(figsize=(14, 8))\n",
        "plt.imshow(tasa_conversion_educacion_grupo_edad, cmap='YlGnBu', aspect='auto')\n",
        "plt.title('Tasa de conversión por educación y grupo de edad', fontsize=16)\n",
        "plt.xlabel('Grupo de edad', fontsize=12)\n",
        "plt.ylabel('Nivel educativo', fontsize=12)\n",
        "plt.xticks(ticks=range(len(tasa_conversion_educacion_grupo_edad.columns)), labels=tasa_conversion_educacion_grupo_edad.columns, rotation=45, ha='right')\n",
        "plt.yticks(ticks=range(len(tasa_conversion_educacion_grupo_edad.index)), labels=tasa_conversion_educacion_grupo_edad.index)\n",
        "plt.colorbar(label='Tasa de conversión (%)')\n",
        "plt.tight_layout()\n",
        "plt.show()"
      ],
      "metadata": {
        "id": "R0DEKY3Dd6OC"
      },
      "execution_count": null,
      "outputs": []
    }
  ]
}