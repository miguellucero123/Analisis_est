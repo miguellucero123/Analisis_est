{
  "nbformat": 4,
  "nbformat_minor": 0,
  "metadata": {
    "colab": {
      "private_outputs": true,
      "provenance": [],
      "authorship_tag": "ABX9TyMx9mBPvBpzcO1WEmSGn3Wl",
      "include_colab_link": true
    },
    "kernelspec": {
      "name": "python3",
      "display_name": "Python 3"
    },
    "language_info": {
      "name": "python"
    }
  },
  "cells": [
    {
      "cell_type": "markdown",
      "metadata": {
        "id": "view-in-github",
        "colab_type": "text"
      },
      "source": [
        "<a href=\"https://colab.research.google.com/github/miguellucero123/Analisis_est/blob/main/Trabajo_S2_TAC_ML.ipynb\" target=\"_parent\"><img src=\"https://colab.research.google.com/assets/colab-badge.svg\" alt=\"Open In Colab\"/></a>"
      ]
    },
    {
      "cell_type": "code",
      "execution_count": null,
      "metadata": {
        "id": "RVr2Ap-tQ9aH"
      },
      "outputs": [],
      "source": [
        "from google.colab import drive\n",
        "drive.mount('/content/drive')\n",
        "\n",
        "# Importación de bibliotecas necesarias\n",
        "import pandas as pd\n",
        "import numpy as np\n",
        "import matplotlib.pyplot as plt\n",
        "import seaborn as sns\n",
        "import re\n",
        "from datetime import datetime\n",
        "\n",
        "# Configuración de la visualización\n",
        "plt.style.use('seaborn-v0_8-whitegrid') # Cambiado de 'seaborn'\n",
        "sns.set(style=\"whitegrid\")\n",
        "plt.rcParams['figure.figsize'] = (12, 8)\n",
        "plt.rcParams['font.size'] = 12\n",
        "\n",
        "# Definir la ruta al archivo\n",
        "ruta = '/content/drive/MyDrive/bank-additional-full.csv'"
      ]
    },
    {
      "cell_type": "code",
      "source": [
        "# Parte 2: Cargar el archivo csv\n",
        "import pandas as pd\n",
        "\n",
        "try:\n",
        "    df = pd.read_csv(ruta, sep=';')\n",
        "    display(df.head())\n",
        "    print(f\"Dimensión del DataFrame: {df.shape}\")\n",
        "    print(f\"Nombre de las columnas: {df.columns.tolist()}\")\n",
        "except FileNotFoundError:\n",
        "    print(\"Error: No se encontró 'bank-additional-full.csv'. Por favor, revisa la ruta del archivo.\")\n",
        "    df = pd.DataFrame() # crear un DataFrame vacío para evitar errores después\n",
        "except pd.errors.ParserError:\n",
        "    print(\"Error: No se pudo analizar el archivo CSV. Por favor, verifica el formato y delimitador.\")\n",
        "    df = pd.DataFrame()\n",
        "except Exception as e:\n",
        "    print(f\"Ocurrió un error inesperado: {e}\")\n",
        "    df = pd.DataFrame()"
      ],
      "metadata": {
        "id": "tsGWjF_7Rl9R"
      },
      "execution_count": null,
      "outputs": []
    },
    {
      "cell_type": "code",
      "source": [
        "# Parte 3: Información básica y exploración inicial\n",
        "df.info()\n",
        "display(df.describe())\n",
        "\n",
        "# Explorar columnas categóricas clave\n",
        "for col in ['y', 'age', 'marital', 'education']:\n",
        "    print(f\"\\nConteo de valores para '{col}':\")\n",
        "    display(df[col].value_counts())\n",
        "\n",
        "# Revisar valores ausentes\n",
        "print(\"\\nValores nulos por columna:\")\n",
        "display(df.isnull().sum())\n",
        "\n",
        "# Revisar tipos de datos de columnas relevantes\n",
        "print(\"\\nTipos de datos de columnas relevantes:\")\n",
        "display(df[['y', 'age', 'marital', 'education']].dtypes)"
      ],
      "metadata": {
        "id": "X5wlfGGIRpe_"
      },
      "execution_count": null,
      "outputs": []
    },
    {
      "cell_type": "code",
      "source": [
        "# Parte 4: Preprocesamiento\n",
        "import numpy as np\n",
        "\n",
        "# 1. Convertir variable objetivo 'y'\n",
        "# Check if 'y' column exists before processing\n",
        "if 'y' in df.columns:\n",
        "    df['conversion'] = df['y'].map({'yes': 1, 'no': 0}).astype(int)\n",
        "    df = df.drop('y', axis=1)\n",
        "else:\n",
        "    # If 'y' column is not found, check if 'conversion' exists (meaning it was likely already processed)\n",
        "    if 'conversion' not in df.columns:\n",
        "         print(\"Error: La columna 'y' o 'conversion' no se encuentra en el DataFrame. Asegúrate de que el archivo CSV se cargó correctamente.\")\n",
        "         # Optionally, you could create an empty 'conversion' column here if needed for later steps\n",
        "         # df['conversion'] = np.nan # Or a default value\n",
        "    # If 'conversion' exists, no action is needed for this step as it's already done.\n",
        "\n",
        "\n",
        "# 2. Crear categorías de grupos de edad\n",
        "# Define the bins for age groups. Adding a lower bound of 18 as it's the minimum age in the dataset.\n",
        "bins = [18, 20, 30, 40, 50, 60, 70, np.inf]\n",
        "labels = ['<20','[20, 30)','[30, 40)','[40, 50)','[50, 60)','[60, 70)','70+'] # Adjusted labels to match bins\n",
        "df['grupo_edad'] = pd.cut(df['age'], bins=bins, labels=labels, right=False, include_lowest=True) # Added include_lowest=True\n",
        "\n",
        "# 3. Imputar valores 'unknown' en 'marital' y 'education' con la categoría más frecuente\n",
        "for col in ['marital', 'education']:\n",
        "    if col in df.columns and 'unknown' in df[col].unique(): # Check if column exists and contains 'unknown'\n",
        "        valor_mas_frecuente = df[col].mode()[0]\n",
        "        df[col] = df[col].replace('unknown', valor_mas_frecuente)\n",
        "\n",
        "# 4. Asegurar los tipos de datos correctos\n",
        "# Check if columns exist before changing their type\n",
        "if 'age' in df.columns:\n",
        "    df['age'] = df['age'].astype(int)\n",
        "if 'conversion' in df.columns:\n",
        "    df['conversion'] = df['conversion'].astype(int)\n",
        "if 'grupo_edad' in df.columns:\n",
        "    df['grupo_edad'] = df['grupo_edad'].astype('category')\n",
        "if 'marital' in df.columns:\n",
        "    df['marital'] = df['marital'].astype('category')\n",
        "if 'education' in df.columns:\n",
        "    df['education'] = df['education'].astype('category')\n",
        "\n",
        "\n",
        "# Mostrar el DataFrame actualizado\n",
        "display(df.head())\n",
        "display(df.info())"
      ],
      "metadata": {
        "id": "meFf9yBsRtao"
      },
      "execution_count": null,
      "outputs": []
    },
    {
      "cell_type": "code",
      "source": [
        "# Parte 5: Métricas de conversión\n",
        "# 1. Conteo absoluto de conversiones\n",
        "conteo_conversion_absoluto = df['conversion'].sum()\n",
        "print(f\"Conteo absoluto de conversiones: {conteo_conversion_absoluto}\")\n",
        "\n",
        "# 2. Tasa de conversión general\n",
        "tasa_conversion_general = (conteo_conversion_absoluto / len(df)) * 100\n",
        "print(f\"Tasa de conversión general: {tasa_conversion_general:.2f}%\")\n",
        "\n",
        "# 3. Tasa de conversión por edad\n",
        "tasa_conversion_por_edad = df.groupby('age')['conversion'].mean() * 100\n",
        "print(\"\\nTasa de conversión por edad:\")\n",
        "display(tasa_conversion_por_edad)\n",
        "\n",
        "# 4. Tasa de conversión por grupo de edad\n",
        "# Add observed=False to handle categorical grouping explicitly\n",
        "tasa_conversion_por_grupo_edad = df.groupby('grupo_edad', observed=False)['conversion'].mean() * 100\n",
        "print(\"\\nTasa de conversión por grupo de edad:\")\n",
        "display(tasa_conversion_por_grupo_edad)\n",
        "\n",
        "# 5. Tasa de conversión por estado civil\n",
        "# Add observed=False to handle categorical grouping explicitly\n",
        "tasa_conversion_por_marital = df.groupby('marital', observed=False)['conversion'].mean() * 100\n",
        "print(\"\\nTasa de conversión por estado civil:\")\n",
        "display(tasa_conversion_por_marital)\n",
        "\n",
        "# 6. Tasa de conversión por estado civil y grupo de edad\n",
        "# Add observed=False to handle categorical grouping explicitly for both columns\n",
        "tasa_conversion_por_marital_grupo = df.groupby(['marital', 'grupo_edad'], observed=False)['conversion'].mean().unstack() * 100\n",
        "print(\"\\nTasa de conversión por estado civil y grupo de edad:\")\n",
        "display(tasa_conversion_por_marital_grupo)"
      ],
      "metadata": {
        "id": "nZsrmLABRxBm"
      },
      "execution_count": null,
      "outputs": []
    }
  ]
}