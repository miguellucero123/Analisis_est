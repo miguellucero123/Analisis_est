{
  "nbformat": 4,
  "nbformat_minor": 0,
  "metadata": {
    "colab": {
      "private_outputs": true,
      "provenance": [],
      "authorship_tag": "ABX9TyPGYk3lx32qq2oYejErcWUB",
      "include_colab_link": true
    },
    "kernelspec": {
      "name": "python3",
      "display_name": "Python 3"
    },
    "language_info": {
      "name": "python"
    }
  },
  "cells": [
    {
      "cell_type": "markdown",
      "metadata": {
        "id": "view-in-github",
        "colab_type": "text"
      },
      "source": [
        "<a href=\"https://colab.research.google.com/github/miguellucero123/Analisis_est/blob/main/Trabajo_TDA304_G5.ipynb\" target=\"_parent\"><img src=\"https://colab.research.google.com/assets/colab-badge.svg\" alt=\"Open In Colab\"/></a>"
      ]
    },
    {
      "cell_type": "code",
      "execution_count": null,
      "metadata": {
        "id": "IQH1_iiltFPs"
      },
      "outputs": [],
      "source": [
        "# Montar Google Drive y preparar entorno\n",
        "from google.colab import drive\n",
        "drive.mount('/content/drive')\n",
        "\n",
        "import pandas as pd\n",
        "import numpy as np\n",
        "\n",
        "# Ruta del archivo (ajusta si es necesario)\n",
        "ruta = '/content/drive/MyDrive/26_05_2025/datos_supermercadousa.csv'\n",
        "\n",
        "# Cargar datos\n",
        "df = pd.read_csv(ruta, encoding='latin-1', sep=';')\n",
        "\n",
        "# Función de limpieza de números (para formato español)\n",
        "def limpiar_numero(valor):\n",
        "    if pd.isnull(valor):\n",
        "        return np.nan\n",
        "    s = str(valor).replace(',', '').strip()\n",
        "    if s.count('.') > 1:\n",
        "        partes = s.split('.')\n",
        "        s = ''.join(partes[:-1]) + '.' + partes[-1]\n",
        "    try:\n",
        "        return float(s)\n",
        "    except Exception:\n",
        "        return np.nan\n",
        "\n",
        "# Corregir nombres de columnas a español estándar\n",
        "df = df.rename(columns={\n",
        "    'Invoice ID': 'ID de factura',\n",
        "    'Branch': 'Sucursal',\n",
        "    'City': 'Ciudad',\n",
        "    'Customer type': 'Tipo de comprador',\n",
        "    'Gender': 'Género',\n",
        "    'Product line': 'Línea de producto',\n",
        "    'Unit price': 'Precio por unidad',\n",
        "    'Canrtidad': 'Cantidad',\n",
        "    'Tax 5%': 'Impuesto 5%',\n",
        "    'Total': 'Total',\n",
        "    'Date': 'Fecha',\n",
        "    'Time': 'Hora',\n",
        "    'Payment': 'Tipo de pago',\n",
        "    'COGS': 'Costo de bienes vendidos',\n",
        "    'Gross margin percentage': 'Porcentaje margen bruto',\n",
        "    'Gross income': 'Ingreso bruto',\n",
        "    'Rating': 'Calificación'\n",
        "})\n",
        "\n",
        "# Limpiar columnas numéricas\n",
        "for col in ['Precio por unidad', 'Total', 'Impuesto 5%', 'Ingreso bruto', 'Calificación', 'Cantidad']:\n",
        "    if col in df.columns:\n",
        "        df[col] = df[col].apply(limpiar_numero)\n",
        "\n",
        "# Eliminar duplicados y valores faltantes\n",
        "df = df.dropna().drop_duplicates()\n",
        "\n",
        "# Calcular columnas requeridas\n",
        "df['Subtotal'] = df['Precio por unidad'] * df['Cantidad']\n",
        "df['Impuesto 5%'] = df['Subtotal'] * 0.05\n",
        "df['Total'] = df['Subtotal'] + df['Impuesto 5%']\n",
        "df['Ingreso bruto'] = df['Impuesto 5%']\n",
        "\n",
        "# Filtro de atípicos (outliers) en Total y Calificación\n",
        "def filtro_iqr(datos, columna):\n",
        "    Q1 = datos[columna].quantile(0.25)\n",
        "    Q3 = datos[columna].quantile(0.75)\n",
        "    IQR = Q3 - Q1\n",
        "    inferior = Q1 - 1.5 * IQR\n",
        "    superior = Q3 + 1.5 * IQR\n",
        "    return datos[(datos[columna] >= inferior) & (datos[columna] <= superior)]\n",
        "\n",
        "df = filtro_iqr(df, 'Total')\n",
        "df = filtro_iqr(df, 'Calificación')\n",
        "\n",
        "# Conversión de fecha\n",
        "df['Fecha'] = pd.to_datetime(df['Fecha'], errors='coerce')\n",
        "df = df.dropna(subset=['Fecha'])"
      ]
    },
    {
      "cell_type": "code",
      "source": [
        "df.shape"
      ],
      "metadata": {
        "id": "qVyNKAqMATTS"
      },
      "execution_count": null,
      "outputs": []
    },
    {
      "cell_type": "code",
      "source": [
        "print(\"1.- ¿Qué representa cada registro del dataframe?\")\n",
        "print(\"Respuesta:\")\n",
        "print(\"Cada registro representa una transacción individual realizada en una de las sucursales del supermercado internacional. \"\n",
        "      \"Incluye información sobre la compra, el cliente, el producto, el monto y la calificación otorgada por el cliente.\")\n",
        "print(\"\\nNombres de las columnas en español:\", df.columns.tolist())\n",
        "display(df.head())"
      ],
      "metadata": {
        "id": "H-X1SGohyid5"
      },
      "execution_count": null,
      "outputs": []
    },
    {
      "cell_type": "code",
      "source": [
        "print(\"2. ¿Cuál es el promedio de ventas diarias por la línea de producto?\")\n",
        "ventas_diarias = df.groupby(['Fecha', 'Linea de producto'])['Total'].sum().reset_index()\n",
        "promedio_ventas_diarias = ventas_diarias.groupby('Linea de producto')['Total'].mean().sort_values(ascending=False)\n",
        "print(\"Respuesta:\")\n",
        "print(\"El promedio de ventas diarias por línea de producto se obtuvo agrupando los datos por fecha y línea de producto, \"\n",
        "      \"sumando las ventas diarias y calculando el promedio para cada línea.\")\n",
        "display(promedio_ventas_diarias)"
      ],
      "metadata": {
        "id": "pUmjmqz4yowZ"
      },
      "execution_count": null,
      "outputs": []
    },
    {
      "cell_type": "code",
      "source": [
        "print(\"3. ¿Qué línea de producto generó más ingresos totales?\")\n",
        "ingresos_por_linea = df.groupby('Linea de producto')['Total'].sum().sort_values(ascending=False)\n",
        "linea_mayor_ingreso = ingresos_por_linea.idxmax()\n",
        "print(\"Respuesta:\")\n",
        "print(f\"La línea de producto que generó más ingresos totales es: {linea_mayor_ingreso}\")\n",
        "print(\"Esto se obtuvo sumando los ingresos totales de cada línea de producto y seleccionando la de mayor valor.\")\n",
        "display(ingresos_por_linea)"
      ],
      "metadata": {
        "id": "zvbrdle907AJ"
      },
      "execution_count": null,
      "outputs": []
    },
    {
      "cell_type": "code",
      "source": [
        "print(\"4. ¿Cuál fue la calificación promedio por la línea de producto y género?\")\n",
        "calif_promedio = df.groupby(['Linea de producto', 'Género'])['Calificación'].mean().unstack()\n",
        "print(\"Respuesta:\")\n",
        "print(\"La calificación promedio por línea de producto y género se calculó agrupando por ambas columnas y sacando el promedio de la calificación.\")\n",
        "display(calif_promedio)"
      ],
      "metadata": {
        "id": "wkBzwYRV1Rw_"
      },
      "execution_count": null,
      "outputs": []
    },
    {
      "cell_type": "code",
      "source": [
        "print(\"5. ¿Cuántos productos de belleza se vendieron a hombres y mujeres en Yangon?\")\n",
        "belleza_yangon = df[(df['Ciudad'] == 'Yangon') & (df['Linea de producto'] == 'Health and beauty')]\n",
        "ventas_belleza_genero = belleza_yangon.groupby('Género')['Cantidad'].sum()\n",
        "print(\"Respuesta:\")\n",
        "print(\"La cantidad de productos de belleza vendidos a hombres y mujeres en Yangon se obtuvo \"\n",
        "      \"filtrando por ciudad y línea de producto, y sumando las cantidades por género.\")\n",
        "display(ventas_belleza_genero)"
      ],
      "metadata": {
        "id": "q6tKUHFF1cEa"
      },
      "execution_count": null,
      "outputs": []
    },
    {
      "cell_type": "code",
      "source": [
        "print(\"6. ¿Cuál fue el monto promedio de las compras de las mujeres Member?\")\n",
        "mujeres_member = df[(df['Género'] == 'Female') & (df['Tipo de comprador'] == 'Member')]\n",
        "promedio_mujeres_member = mujeres_member['Total'].mean()\n",
        "print(\"Respuesta:\")\n",
        "print(f\"El monto promedio de las compras de las mujeres Member es: {promedio_mujeres_member:.2f}\")\n",
        "print(\"Esto se obtuvo filtrando por género femenino y tipo de cliente 'Member', luego calculando el promedio del valor total de la compra.\")"
      ],
      "metadata": {
        "id": "fGTTFeCC_UNL"
      },
      "execution_count": null,
      "outputs": []
    },
    {
      "cell_type": "code",
      "source": [
        "# Parte 10\n",
        "import matplotlib.pyplot as plt\n",
        "\n",
        "# 1. Ventas diarias promedio por línea de producto\n",
        "plt.figure(figsize=(10, 6))\n",
        "# Make sure 'promedio_ventas_diarias' is calculated in a previous cell\n",
        "promedio_ventas_diarias.plot(kind='bar', color='skyblue')\n",
        "plt.title('Ventas diarias promedio por línea de producto')\n",
        "plt.xlabel('Línea de producto')\n",
        "plt.ylabel('Ventas diarias promedio')\n",
        "plt.xticks(rotation=45, ha='right')\n",
        "plt.tight_layout()\n",
        "plt.savefig('ventas_diarias_promedio.png')\n",
        "plt.show()\n",
        "\n",
        "# 2. Calificación promedio por línea de producto y género\n",
        "plt.figure(figsize=(12, 6))\n",
        "# Make sure 'calif_promedio' is calculated in a previous cell\n",
        "calif_promedio.plot(kind='bar', color=['lightcoral', 'lightblue']) # Use the correct variable name\n",
        "plt.title('Calificación promedio por línea de producto y género')\n",
        "plt.xlabel('Línea de producto')\n",
        "plt.ylabel('Calificación promedio')\n",
        "plt.xticks(rotation=45, ha='right')\n",
        "plt.legend(calif_promedio.columns) # Use the columns of calif_promedio for the legend\n",
        "plt.tight_layout()\n",
        "plt.savefig('calificacion_promedio.png')\n",
        "plt.show()\n",
        "\n",
        "# 3. Ingresos totales por línea de producto\n",
        "plt.figure(figsize=(10, 6))\n",
        "# Make sure 'ingresos_por_linea' is calculated in a previous cell\n",
        "ingresos_por_linea.plot(kind='bar', color='lightgreen')\n",
        "plt.title('Ingresos totales por línea de producto')\n",
        "plt.xlabel('Línea de producto')\n",
        "plt.ylabel('Ingresos totales')\n",
        "plt.xticks(rotation=45, ha='right')\n",
        "plt.tight_layout()\n",
        "plt.savefig('ingresos_totales.png')\n",
        "plt.show()\n",
        "\n",
        "# 4. Productos de belleza vendidos en Yangon por género\n",
        "plt.figure(figsize=(8, 6))\n",
        "# Make sure 'ventas_belleza_genero' is calculated in a previous cell\n",
        "ventas_belleza_genero.plot(kind='bar', color=['pink', 'lightblue'])\n",
        "plt.title('Productos de belleza vendidos en Yangon por género')\n",
        "plt.xlabel('Género')\n",
        "plt.ylabel('Cantidad vendida')\n",
        "plt.xticks(rotation=0)\n",
        "plt.tight_layout()\n",
        "plt.savefig('productos_belleza_yangon.png')\n",
        "plt.show()"
      ],
      "metadata": {
        "id": "9wvhXOePBHQT"
      },
      "execution_count": null,
      "outputs": []
    }
  ]
}